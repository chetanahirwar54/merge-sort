{
 "cells": [
  {
   "cell_type": "markdown",
   "metadata": {},
   "source": [
    "# Merge sort"
   ]
  },
  {
   "cell_type": "code",
   "execution_count": 1,
   "metadata": {},
   "outputs": [],
   "source": [
    "def merge(left, right):\n",
    "    result = []\n",
    "    i, j = 0,0\n",
    "    while i<len(left) and j<len(right):\n",
    "        print('result:', str(result))\n",
    "        if left[i]< right[j]:\n",
    "            result.append(left[i])\n",
    "            i+=1\n",
    "        else:\n",
    "            result.append(right[j])\n",
    "            j+=1\n",
    "    while i<len(left):\n",
    "        result.append(left[i])\n",
    "        i+=1\n",
    "    while j<len(right):\n",
    "        result.append(right[j])\n",
    "        j+=1\n",
    "    return result"
   ]
  },
  {
   "cell_type": "code",
   "execution_count": 2,
   "metadata": {},
   "outputs": [],
   "source": [
    "def merge_sort(l):\n",
    "    if len(l)<2:\n",
    "        return l[:]\n",
    "    else:\n",
    "        middle = len(l)//2\n",
    "        left = merge_sort(l[:middle])\n",
    "        right = merge_sort(l[middle:])\n",
    "        print('left:', str(left), 'and right:', str(right))\n",
    "        return merge(left, right)"
   ]
  },
  {
   "cell_type": "code",
   "execution_count": 3,
   "metadata": {},
   "outputs": [
    {
     "name": "stdout",
     "output_type": "stream",
     "text": [
      "left: [23] and right: [67]\n",
      "result: []\n",
      "left: [76] and right: [21]\n",
      "result: []\n",
      "left: [2] and right: [21, 76]\n",
      "result: []\n",
      "left: [23, 67] and right: [2, 21, 76]\n",
      "result: []\n",
      "result: [2]\n",
      "result: [2, 21]\n",
      "result: [2, 21, 23]\n",
      "left: [90] and right: [6]\n",
      "result: []\n",
      "left: [1] and right: [8]\n",
      "result: []\n",
      "left: [56] and right: [1, 8]\n",
      "result: []\n",
      "result: [1]\n",
      "left: [6, 90] and right: [1, 8, 56]\n",
      "result: []\n",
      "result: [1]\n",
      "result: [1, 6]\n",
      "result: [1, 6, 8]\n",
      "left: [2, 21, 23, 67, 76] and right: [1, 6, 8, 56, 90]\n",
      "result: []\n",
      "result: [1]\n",
      "result: [1, 2]\n",
      "result: [1, 2, 6]\n",
      "result: [1, 2, 6, 8]\n",
      "result: [1, 2, 6, 8, 21]\n",
      "result: [1, 2, 6, 8, 21, 23]\n",
      "result: [1, 2, 6, 8, 21, 23, 56]\n",
      "result: [1, 2, 6, 8, 21, 23, 56, 67]\n"
     ]
    },
    {
     "data": {
      "text/plain": [
       "[1, 2, 6, 8, 21, 23, 56, 67, 76, 90]"
      ]
     },
     "execution_count": 3,
     "metadata": {},
     "output_type": "execute_result"
    }
   ],
   "source": [
    "l = [23,67,2,76,21,90,6,56,1,8]\n",
    "merge_sort(l)"
   ]
  },
  {
   "cell_type": "code",
   "execution_count": null,
   "metadata": {},
   "outputs": [],
   "source": []
  }
 ],
 "metadata": {
  "kernelspec": {
   "display_name": "Python 3",
   "language": "python",
   "name": "python3"
  },
  "language_info": {
   "codemirror_mode": {
    "name": "ipython",
    "version": 3
   },
   "file_extension": ".py",
   "mimetype": "text/x-python",
   "name": "python",
   "nbconvert_exporter": "python",
   "pygments_lexer": "ipython3",
   "version": "3.7.3"
  }
 },
 "nbformat": 4,
 "nbformat_minor": 2
}
